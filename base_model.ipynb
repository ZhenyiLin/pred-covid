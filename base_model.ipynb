{
 "cells": [
  {
   "cell_type": "code",
   "execution_count": 27,
   "id": "d0854be7-2262-4baf-bd89-cf54589cb445",
   "metadata": {},
   "outputs": [
    {
     "name": "stdout",
     "output_type": "stream",
     "text": [
      "The autoreload extension is already loaded. To reload it, use:\n",
      "  %reload_ext autoreload\n"
     ]
    }
   ],
   "source": [
    "%load_ext autoreload\n",
    "%autoreload 2"
   ]
  },
  {
   "cell_type": "code",
   "execution_count": 28,
   "id": "5912fb39-e3db-46d5-b1db-436def62ef27",
   "metadata": {},
   "outputs": [
    {
     "name": "stdout",
     "output_type": "stream",
     "text": [
      "Logging has been configured.\n"
     ]
    }
   ],
   "source": [
    "import src\n",
    "import pandas as pd\n",
    "import numpy as np\n",
    "\n",
    "pd.set_option('display.max_rows', None)\n",
    "import matplotlib.pyplot as plt\n",
    "import logging\n",
    "src.logging_config.setup_logging(logging.INFO)"
   ]
  },
  {
   "cell_type": "markdown",
   "id": "7703146a-5445-4819-bdd7-445348944443",
   "metadata": {},
   "source": [
    "# Data Pipeline"
   ]
  },
  {
   "cell_type": "code",
   "execution_count": 29,
   "id": "e270e25b-209a-489e-9ac5-b71fcd58f42b",
   "metadata": {},
   "outputs": [
    {
     "name": "stderr",
     "output_type": "stream",
     "text": [
      "2024-10-03 01:27:51,385 - src.features - INFO - ---- Covid Data Loader --------\n",
      "2024-10-03 01:27:51,387 - src.features - INFO -   loading dataset ...\n",
      "2024-10-03 01:27:56,272 - src.features - INFO -   cleaning dataset ...\n",
      "2024-10-03 01:28:01,065 - src.features - INFO -   sorting dataset by location and date...\n",
      "2024-10-03 01:28:01,376 - src.features - INFO - ---- Target Creator (new_confirmed / population * 100) --------\n",
      "2024-10-03 01:28:01,378 - src.features - INFO -  shifting 0 day(s)...\n",
      "2024-10-03 01:28:01,379 - src.util - INFO - truncating target outliers ...\n"
     ]
    }
   ],
   "source": [
    "covid_data_loader = src.features.CovidDataLoader(level=1)\n",
    "target_creator = src.features.TargetCreator(shift_day=0)\n",
    "\n",
    "pipeline = [covid_data_loader, \n",
    "            target_creator]\n",
    "df = None\n",
    "for t in pipeline:\n",
    "    df = t.transform(df)"
   ]
  },
  {
   "cell_type": "markdown",
   "id": "82ec64dd-0e68-455d-8d34-5f2653363483",
   "metadata": {},
   "source": [
    "# Base Model\n",
    "Use latest date `target` as the prediction of the next 7 days"
   ]
  },
  {
   "cell_type": "markdown",
   "id": "d8685c1b-3660-4ee1-bece-77cbf879fb66",
   "metadata": {},
   "source": [
    "### Load Config"
   ]
  },
  {
   "cell_type": "code",
   "execution_count": 30,
   "id": "ac0d7c98-f5e0-4cae-8bcf-43a45fb3b507",
   "metadata": {},
   "outputs": [
    {
     "name": "stderr",
     "output_type": "stream",
     "text": [
      "2024-10-03 01:28:01,939 - src.util - INFO - Loaded CONFIG:\n",
      "{\n",
      "    \"pred_days\": 7,\n",
      "    \"pred_date\": \"2021-07-01\",\n",
      "    \"features\": [\n",
      "        \"loc_roll7_mean\",\n",
      "        \"loc_roll14_mean\",\n",
      "        \"loc_roll28_mean\",\n",
      "        \"loc_roll56_mean\",\n",
      "        \"loc_roll7_std\",\n",
      "        \"loc_roll14_std\",\n",
      "        \"loc_roll28_std\",\n",
      "        \"loc_roll56_std\",\n",
      "        \"location_duration_days\",\n",
      "        \"population\",\n",
      "        \"weekday\",\n",
      "        \"is_sunday\",\n",
      "        \"gap_days\",\n",
      "        \"loc_lag0\",\n",
      "        \"loc_lag1\",\n",
      "        \"loc_lag2\",\n",
      "        \"loc_lag3\",\n",
      "        \"loc_lag4\",\n",
      "        \"loc_lag5\",\n",
      "        \"loc_lag6\",\n",
      "        \"new_vaccinated_rate\",\n",
      "        \"cumsum_vaccinated_rate\",\n",
      "        \"loc_rain_roll7_sum\",\n",
      "        \"loc_rain_roll14_sum\",\n",
      "        \"loc_rain_roll28_sum\",\n",
      "        \"loc_rain_roll56_sum\",\n",
      "        \"location_key_encoded\",\n",
      "        \"latitude\",\n",
      "        \"longitude\",\n",
      "        \"relative_humidity\",\n",
      "        \"loc_same_weekday_roll2_mean\",\n",
      "        \"loc_same_weekday_roll3_mean\",\n",
      "        \"loc_same_weekday_roll4_mean\",\n",
      "        \"loc_same_weekday_roll5_mean\",\n",
      "        \"loc_same_weekday_roll6_mean\",\n",
      "        \"loc_same_weekday_roll7_mean\",\n",
      "        \"loc_same_weekday_roll8_mean\",\n",
      "        \"distance_from_city\",\n",
      "        \"distance_from_cn_hb\",\n",
      "        \"average_temperature_celsius\",\n",
      "        \"temperature_roll7_mean\",\n",
      "        \"temperature_roll14_mean\",\n",
      "        \"temperature_roll28_mean\",\n",
      "        \"temperature_roll56_mean\",\n",
      "        \"rh_roll7_mean\",\n",
      "        \"rh_roll14_mean\",\n",
      "        \"rh_roll28_mean\",\n",
      "        \"rh_roll56_mean\",\n",
      "        \"loc_roll7_mean_ratio\",\n",
      "        \"temperature_roll7_mean_ratio\",\n",
      "        \"rh_roll7_mean_ratio\",\n",
      "        \"loc_roll14_mean_ratio\",\n",
      "        \"temperature_roll14_mean_ratio\",\n",
      "        \"rh_roll14_mean_ratio\",\n",
      "        \"loc_roll28_mean_ratio\",\n",
      "        \"temperature_roll28_mean_ratio\",\n",
      "        \"rh_roll28_mean_ratio\",\n",
      "        \"loc_roll56_mean_ratio\",\n",
      "        \"temperature_roll56_mean_ratio\",\n",
      "        \"rh_roll56_mean_ratio\"\n",
      "    ],\n",
      "    \"recursive_model_features\": [\n",
      "        \"loc_roll7_mean\",\n",
      "        \"loc_roll14_mean\",\n",
      "        \"loc_roll28_mean\",\n",
      "        \"loc_roll56_mean\",\n",
      "        \"loc_roll7_std\",\n",
      "        \"loc_roll14_std\",\n",
      "        \"loc_roll28_std\",\n",
      "        \"loc_roll56_std\",\n",
      "        \"location_duration_days\",\n",
      "        \"population\",\n",
      "        \"weekday\",\n",
      "        \"is_sunday\",\n",
      "        \"loc_lag0\",\n",
      "        \"loc_lag1\",\n",
      "        \"loc_lag2\",\n",
      "        \"loc_lag3\",\n",
      "        \"loc_lag4\",\n",
      "        \"loc_lag5\",\n",
      "        \"loc_lag6\",\n",
      "        \"location_key_encoded\",\n",
      "        \"latitude\",\n",
      "        \"longitude\",\n",
      "        \"loc_same_weekday_roll2_mean\",\n",
      "        \"loc_same_weekday_roll3_mean\",\n",
      "        \"loc_same_weekday_roll4_mean\",\n",
      "        \"loc_same_weekday_roll5_mean\",\n",
      "        \"loc_same_weekday_roll6_mean\",\n",
      "        \"loc_same_weekday_roll7_mean\",\n",
      "        \"loc_same_weekday_roll8_mean\",\n",
      "        \"distance_from_city\",\n",
      "        \"distance_from_cn_hb\",\n",
      "        \"loc_roll7_mean_ratio\",\n",
      "        \"loc_roll14_mean_ratio\",\n",
      "        \"loc_roll28_mean_ratio\",\n",
      "        \"loc_roll56_mean_ratio\"\n",
      "    ],\n",
      "    \"lgb_params\": {\n",
      "        \"boosting_type\": \"gbdt\",\n",
      "        \"objective\": \"mae\",\n",
      "        \"subsample\": 0.5,\n",
      "        \"subsample_freq\": 1,\n",
      "        \"feature_fraction\": 0.7,\n",
      "        \"max_bin\": 100,\n",
      "        \"num_leaves\": 255,\n",
      "        \"min_data_in_leaf\": 200,\n",
      "        \"learning_rate\": 0.02,\n",
      "        \"max_depth\": 8,\n",
      "        \"verbose\": -1\n",
      "    }\n",
      "}\n"
     ]
    }
   ],
   "source": [
    "CONFIG = src.util.load_config()"
   ]
  },
  {
   "cell_type": "markdown",
   "id": "fb6a904f-ff06-46e6-95b8-f9644b17b2c7",
   "metadata": {},
   "source": [
    "### Cross Validation Model Train & Test"
   ]
  },
  {
   "cell_type": "code",
   "execution_count": 31,
   "id": "5a152744-9eef-4500-911a-b34994e77b91",
   "metadata": {},
   "outputs": [
    {
     "name": "stderr",
     "output_type": "stream",
     "text": [
      "2024-10-03 01:28:01,987 - src.util - INFO - train / test split: \n",
      "  gap days = 0\n",
      "  2020-05-01 <= train <= 2021-06-02\n",
      "  2021-06-03 <= test <= 2021-06-09\n",
      "2024-10-03 01:28:02,050 - src.util - INFO - train size: 282730; test_size: 5415\n",
      "2024-10-03 01:28:02,062 - src.models - INFO - ---- Base Model fitting --------\n",
      "2024-10-03 01:28:02,108 - src.models - INFO - ---- Base Model predicting --------\n",
      "2024-10-03 01:28:02,119 - src.util - INFO - train / test split: \n",
      "  gap days = 0\n",
      "  2020-05-01 <= train <= 2021-06-09\n",
      "  2021-06-10 <= test <= 2021-06-16\n",
      "2024-10-03 01:28:02,187 - src.util - INFO - train size: 288145; test_size: 5266\n",
      "2024-10-03 01:28:02,196 - src.models - INFO - ---- Base Model fitting --------\n",
      "2024-10-03 01:28:02,242 - src.models - INFO - ---- Base Model predicting --------\n",
      "2024-10-03 01:28:02,253 - src.util - INFO - train / test split: \n",
      "  gap days = 0\n",
      "  2020-05-01 <= train <= 2021-06-16\n",
      "  2021-06-17 <= test <= 2021-06-23\n",
      "2024-10-03 01:28:02,313 - src.util - INFO - train size: 293411; test_size: 5304\n",
      "2024-10-03 01:28:02,323 - src.models - INFO - ---- Base Model fitting --------\n",
      "2024-10-03 01:28:02,370 - src.models - INFO - ---- Base Model predicting --------\n",
      "2024-10-03 01:28:02,379 - src.util - INFO - train / test split: \n",
      "  gap days = 0\n",
      "  2020-05-01 <= train <= 2021-06-23\n",
      "  2021-06-24 <= test <= 2021-06-30\n",
      "2024-10-03 01:28:02,439 - src.util - INFO - train size: 298715; test_size: 5249\n",
      "2024-10-03 01:28:02,449 - src.models - INFO - ---- Base Model fitting --------\n",
      "2024-10-03 01:28:02,496 - src.models - INFO - ---- Base Model predicting --------\n",
      "2024-10-03 01:28:02,507 - src.util - INFO - train / test split: \n",
      "  gap days = 0\n",
      "  2020-05-01 <= train <= 2021-06-30\n",
      "  2021-07-01 <= test <= 2021-07-07\n",
      "2024-10-03 01:28:02,569 - src.util - INFO - train size: 303964; test_size: 5289\n",
      "2024-10-03 01:28:02,589 - src.models - INFO - ---- Base Model fitting --------\n",
      "2024-10-03 01:28:02,637 - src.models - INFO - ---- Base Model predicting --------\n"
     ]
    }
   ],
   "source": [
    "score = {}\n",
    "model = {}\n",
    "# Cross Validation Score\n",
    "for i, cv_date in enumerate([\"2021-06-03\", \"2021-06-10\", \"2021-06-17\", \"2021-06-24\"]):\n",
    "    # train / test split\n",
    "    cv_train_df, cv_test_df = src.util.train_test_split(df, ref_date=cv_date, pred_days=CONFIG[\"pred_days\"], gap_days=0)\n",
    "\n",
    "    # Model train & prediction\n",
    "    base_model = src.models.BaseModel(pred_days=7)\n",
    "    base_model.fit(cv_train_df)\n",
    "    cv_pred_df = base_model.transform(cv_test_df)\n",
    "\n",
    "    # compute agg MAE score\n",
    "    score[f'cv{i}'] = src.util.score(cv_pred_df['population'], cv_pred_df['prediction'], cv_pred_df['target'])\n",
    "    model[f'cv{i}'] = base_model\n",
    "\n",
    "# Test Score\n",
    "train_df, test_df = src.util.train_test_split(df, ref_date=CONFIG[\"pred_date\"], pred_days=CONFIG[\"pred_days\"])\n",
    "base_model = src.models.BaseModel(pred_days=7)\n",
    "base_model.fit(train_df)\n",
    "pred_df = base_model.transform(test_df)\n",
    "score[f'test'] = src.util.score(pred_df['population'], pred_df['prediction'], pred_df['target'])\n",
    "model[f'test'] = base_model"
   ]
  },
  {
   "cell_type": "markdown",
   "id": "b801abaa-46e2-44a2-811e-e715e9c248bb",
   "metadata": {},
   "source": [
    "### Evaluation Score"
   ]
  },
  {
   "cell_type": "code",
   "execution_count": 33,
   "id": "acffdf5f-acd1-45a9-91f1-44f3656b002f",
   "metadata": {},
   "outputs": [],
   "source": [
    "pred_df.to_csv(\"./predictions/base_model.csv\", index=False)"
   ]
  },
  {
   "cell_type": "code",
   "execution_count": 34,
   "id": "9e2b3a69-8fe5-4d1a-af23-ea76859e45d8",
   "metadata": {},
   "outputs": [
    {
     "name": "stderr",
     "output_type": "stream",
     "text": [
      "2024-10-03 01:28:21,825 - src.util - INFO - ---- cv / test scores ----\n"
     ]
    },
    {
     "name": "stdout",
     "output_type": "stream",
     "text": [
      "cv0 score = 0.0035\n",
      "cv1 score = 0.0037\n",
      "cv2 score = 0.0030\n",
      "cv3 score = 0.0027\n",
      "cv score = 0.0032\n",
      "test score = 0.0029\n",
      "cv score std  = 0.0004\n"
     ]
    }
   ],
   "source": [
    "src.util.display_score(score)"
   ]
  },
  {
   "cell_type": "code",
   "execution_count": 40,
   "id": "1eff8f3e-fbcc-48bf-949b-012542740563",
   "metadata": {},
   "outputs": [
    {
     "data": {
      "text/html": [
       "<div>\n",
       "<style scoped>\n",
       "    .dataframe tbody tr th:only-of-type {\n",
       "        vertical-align: middle;\n",
       "    }\n",
       "\n",
       "    .dataframe tbody tr th {\n",
       "        vertical-align: top;\n",
       "    }\n",
       "\n",
       "    .dataframe thead th {\n",
       "        text-align: right;\n",
       "    }\n",
       "</style>\n",
       "<table border=\"1\" class=\"dataframe\">\n",
       "  <thead>\n",
       "    <tr style=\"text-align: right;\">\n",
       "      <th></th>\n",
       "      <th>cv_score_mean</th>\n",
       "      <th>cv_score_std</th>\n",
       "    </tr>\n",
       "  </thead>\n",
       "  <tbody>\n",
       "    <tr>\n",
       "      <th>0</th>\n",
       "      <td>0.003216</td>\n",
       "      <td>0.000395</td>\n",
       "    </tr>\n",
       "  </tbody>\n",
       "</table>\n",
       "</div>"
      ],
      "text/plain": [
       "   cv_score_mean  cv_score_std\n",
       "0       0.003216      0.000395"
      ]
     },
     "metadata": {},
     "output_type": "display_data"
    }
   ],
   "source": [
    "tuning_df = pd.DataFrame({'cv_score_mean': [np.mean([score['cv0'], score['cv1'], score['cv2'], score['cv3']])],\n",
    "                          'cv_score_std': [np.std([score['cv0'], score['cv1'], score['cv2'], score['cv3']])],\n",
    "                         })\n",
    "display(tuning_df)\n",
    "tuning_df.to_csv(\"./scores/base_model.csv\", index=False)"
   ]
  },
  {
   "cell_type": "code",
   "execution_count": 37,
   "id": "fdf1b965-f7ba-4afc-8a5b-9da45d719451",
   "metadata": {},
   "outputs": [
    {
     "data": {
      "text/plain": [
       "{'cv0': 0.003471805840295558,\n",
       " 'cv1': 0.0036958101146007337,\n",
       " 'cv2': 0.003020672227133181,\n",
       " 'cv3': 0.002675863354043167,\n",
       " 'test': 0.002906537865053964}"
      ]
     },
     "execution_count": 37,
     "metadata": {},
     "output_type": "execute_result"
    }
   ],
   "source": [
    "score"
   ]
  },
  {
   "cell_type": "markdown",
   "id": "7bc1d8d7-f2e8-4318-963a-2710b2079d0e",
   "metadata": {},
   "source": [
    "### Save Model"
   ]
  },
  {
   "cell_type": "code",
   "execution_count": 26,
   "id": "d1cc422e-3ac8-46ac-8883-ef153873ff7b",
   "metadata": {},
   "outputs": [
    {
     "name": "stderr",
     "output_type": "stream",
     "text": [
      "2024-10-03 01:11:31,544 - src.util - INFO - Saving model to ./models/base_model.jolib\n"
     ]
    }
   ],
   "source": [
    "src.util.save_model(model, \"base_model.jolib\")"
   ]
  },
  {
   "cell_type": "code",
   "execution_count": null,
   "id": "75267227-2557-4969-948f-5352976d59db",
   "metadata": {},
   "outputs": [],
   "source": []
  }
 ],
 "metadata": {
  "kernelspec": {
   "display_name": "Python 3 (ipykernel)",
   "language": "python",
   "name": "python3"
  },
  "language_info": {
   "codemirror_mode": {
    "name": "ipython",
    "version": 3
   },
   "file_extension": ".py",
   "mimetype": "text/x-python",
   "name": "python",
   "nbconvert_exporter": "python",
   "pygments_lexer": "ipython3",
   "version": "3.10.12"
  }
 },
 "nbformat": 4,
 "nbformat_minor": 5
}
