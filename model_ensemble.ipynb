{
 "cells": [
  {
   "cell_type": "code",
   "execution_count": 1,
   "id": "46afc970-386f-41f3-bfa2-8b623af4e0a8",
   "metadata": {},
   "outputs": [],
   "source": [
    "%load_ext autoreload\n",
    "%autoreload 2"
   ]
  },
  {
   "cell_type": "code",
   "execution_count": 2,
   "id": "1c3119b4-fc5c-4ee0-8722-489a0c8d72ca",
   "metadata": {},
   "outputs": [],
   "source": [
    "import pandas as pd\n",
    "import src"
   ]
  },
  {
   "cell_type": "code",
   "execution_count": 50,
   "id": "3d494d6b-91ed-4979-a05c-45b22ad48dc0",
   "metadata": {},
   "outputs": [],
   "source": [
    "pred1 = pd.read_csv(\"./predictions/rolling_model.csv\")\n",
    "pred2 = pd.read_csv(\"./predictions/recursive_model.csv\")\n",
    "del pred1['date']\n",
    "del pred2['date']"
   ]
  },
  {
   "cell_type": "code",
   "execution_count": 91,
   "id": "bdffc4ad-767c-46e9-b864-c5d79fb84939",
   "metadata": {},
   "outputs": [],
   "source": [
    "#### pred_df = pd.merge(pred1, pred2, on=['country_name', 'location_key', 'population', 'target_date', 'target'], how=\"left\", suffixes=['_roll', '_recursive'])\n",
    "pred_df['target_date'] = pd.to_datetime(pred_df['target_date'])\n",
    "pred_df['day_no'] = (pred_df['target_date'] - pred_df['target_date'].min()).dt.days\n",
    "weight = {\n",
    "    0: 0.8,\n",
    "    1: 0.4,\n",
    "    2: 0.2,\n",
    "    3: 0.2,\n",
    "    4: 0.1,\n",
    "    5: 0.1,\n",
    "    6: 0.0,\n",
    "    7: 0.0\n",
    "}\n",
    "pred_df[\"prediction\"] = pred_df.apply(lambda x: weight[x['day_no']] * x['prediction_recursive'] + (1 - weight[x['day_no']]) * x['prediction_roll'], axis=1)"
   ]
  },
  {
   "cell_type": "code",
   "execution_count": 95,
   "id": "3e36246f-14eb-4780-a801-e9a82f401b2a",
   "metadata": {},
   "outputs": [],
   "source": [
    "pred_df.to_csv(\"./predictions/ensemble_model.csv\", index=False)"
   ]
  },
  {
   "cell_type": "code",
   "execution_count": 92,
   "id": "b7aca836-74c8-42d3-81c1-8be64b69e6c4",
   "metadata": {},
   "outputs": [
    {
     "data": {
      "text/html": [
       "<div>\n",
       "<style scoped>\n",
       "    .dataframe tbody tr th:only-of-type {\n",
       "        vertical-align: middle;\n",
       "    }\n",
       "\n",
       "    .dataframe tbody tr th {\n",
       "        vertical-align: top;\n",
       "    }\n",
       "\n",
       "    .dataframe thead th {\n",
       "        text-align: right;\n",
       "    }\n",
       "</style>\n",
       "<table border=\"1\" class=\"dataframe\">\n",
       "  <thead>\n",
       "    <tr style=\"text-align: right;\">\n",
       "      <th></th>\n",
       "      <th>country_name</th>\n",
       "      <th>location_key</th>\n",
       "      <th>target_date</th>\n",
       "      <th>target</th>\n",
       "      <th>prediction_roll</th>\n",
       "      <th>population</th>\n",
       "      <th>prediction_recursive</th>\n",
       "      <th>day_no</th>\n",
       "      <th>prediction</th>\n",
       "    </tr>\n",
       "  </thead>\n",
       "  <tbody>\n",
       "    <tr>\n",
       "      <th>0</th>\n",
       "      <td>Argentina</td>\n",
       "      <td>AR_A</td>\n",
       "      <td>2021-07-01</td>\n",
       "      <td>0.041661</td>\n",
       "      <td>0.045330</td>\n",
       "      <td>1406584.0</td>\n",
       "      <td>0.045346</td>\n",
       "      <td>0</td>\n",
       "      <td>0.045342</td>\n",
       "    </tr>\n",
       "    <tr>\n",
       "      <th>1</th>\n",
       "      <td>Argentina</td>\n",
       "      <td>AR_A</td>\n",
       "      <td>2021-07-02</td>\n",
       "      <td>0.043367</td>\n",
       "      <td>0.048766</td>\n",
       "      <td>1406584.0</td>\n",
       "      <td>0.064839</td>\n",
       "      <td>1</td>\n",
       "      <td>0.055195</td>\n",
       "    </tr>\n",
       "    <tr>\n",
       "      <th>2</th>\n",
       "      <td>Argentina</td>\n",
       "      <td>AR_A</td>\n",
       "      <td>2021-07-03</td>\n",
       "      <td>0.029717</td>\n",
       "      <td>0.035592</td>\n",
       "      <td>1406584.0</td>\n",
       "      <td>0.052885</td>\n",
       "      <td>2</td>\n",
       "      <td>0.039050</td>\n",
       "    </tr>\n",
       "    <tr>\n",
       "      <th>3</th>\n",
       "      <td>Argentina</td>\n",
       "      <td>AR_A</td>\n",
       "      <td>2021-07-04</td>\n",
       "      <td>0.011517</td>\n",
       "      <td>0.017349</td>\n",
       "      <td>1406584.0</td>\n",
       "      <td>0.032149</td>\n",
       "      <td>3</td>\n",
       "      <td>0.020309</td>\n",
       "    </tr>\n",
       "    <tr>\n",
       "      <th>4</th>\n",
       "      <td>Argentina</td>\n",
       "      <td>AR_A</td>\n",
       "      <td>2021-07-05</td>\n",
       "      <td>0.041803</td>\n",
       "      <td>0.042937</td>\n",
       "      <td>1406584.0</td>\n",
       "      <td>0.050728</td>\n",
       "      <td>4</td>\n",
       "      <td>0.043716</td>\n",
       "    </tr>\n",
       "  </tbody>\n",
       "</table>\n",
       "</div>"
      ],
      "text/plain": [
       "  country_name location_key target_date    target  prediction_roll  \\\n",
       "0    Argentina         AR_A  2021-07-01  0.041661         0.045330   \n",
       "1    Argentina         AR_A  2021-07-02  0.043367         0.048766   \n",
       "2    Argentina         AR_A  2021-07-03  0.029717         0.035592   \n",
       "3    Argentina         AR_A  2021-07-04  0.011517         0.017349   \n",
       "4    Argentina         AR_A  2021-07-05  0.041803         0.042937   \n",
       "\n",
       "   population  prediction_recursive  day_no  prediction  \n",
       "0   1406584.0              0.045346       0    0.045342  \n",
       "1   1406584.0              0.064839       1    0.055195  \n",
       "2   1406584.0              0.052885       2    0.039050  \n",
       "3   1406584.0              0.032149       3    0.020309  \n",
       "4   1406584.0              0.050728       4    0.043716  "
      ]
     },
     "execution_count": 92,
     "metadata": {},
     "output_type": "execute_result"
    }
   ],
   "source": [
    "pred_df.head()"
   ]
  },
  {
   "cell_type": "code",
   "execution_count": 93,
   "id": "ecdf4679-2751-4724-98a5-ea402a5bd94b",
   "metadata": {},
   "outputs": [],
   "source": [
    "score = src.util.score(pred_df['population'], pred_df['prediction'], pred_df['target'])"
   ]
  },
  {
   "cell_type": "code",
   "execution_count": 94,
   "id": "b6cb1844-a9ae-40b5-b0ec-44cc83338027",
   "metadata": {},
   "outputs": [
    {
     "data": {
      "text/plain": [
       "0.001921918988424349"
      ]
     },
     "execution_count": 94,
     "metadata": {},
     "output_type": "execute_result"
    }
   ],
   "source": [
    "score"
   ]
  },
  {
   "cell_type": "code",
   "execution_count": null,
   "id": "2f1f697e-a917-426a-b120-c4261c7feb7a",
   "metadata": {},
   "outputs": [],
   "source": []
  }
 ],
 "metadata": {
  "kernelspec": {
   "display_name": "Python 3 (ipykernel)",
   "language": "python",
   "name": "python3"
  },
  "language_info": {
   "codemirror_mode": {
    "name": "ipython",
    "version": 3
   },
   "file_extension": ".py",
   "mimetype": "text/x-python",
   "name": "python",
   "nbconvert_exporter": "python",
   "pygments_lexer": "ipython3",
   "version": "3.10.12"
  }
 },
 "nbformat": 4,
 "nbformat_minor": 5
}
